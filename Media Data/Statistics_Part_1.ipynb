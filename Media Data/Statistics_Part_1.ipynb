{
 "cells": [
  {
   "cell_type": "markdown",
   "id": "009c85b4-18f4-45a7-86e9-b080ef9e2230",
   "metadata": {},
   "source": [
    "<h1>Statistic Test</h1>\n",
    "\n",
    "Input Data"
   ]
  },
  {
   "cell_type": "code",
   "execution_count": 1,
   "id": "af0e8f94-3456-4785-a967-09fe4c9ee490",
   "metadata": {},
   "outputs": [],
   "source": [
    "import pandas as pd\n",
    "\n",
    "# Read the data\n",
    "df = pd.read_csv('D:/Langara College/CPSC4800/media.csv')\n",
    "\n",
    "# Convert dates from string to datetime objects\n",
    "df['Start_Date'] = pd.to_datetime(df['Start_Date'])\n",
    "df['End_Date'] = pd.to_datetime(df['End_Date'])\n",
    "\n",
    "# Remove any duplicate entries\n",
    "df.drop_duplicates(inplace=True)"
   ]
  },
  {
   "attachments": {},
   "cell_type": "markdown",
   "id": "5a4f528b-a298-4dda-9943-41afba0a0654",
   "metadata": {},
   "source": [
    "<h1>Categorical Variables Tests</h1>\n",
    "\n",
    "t-test:\n",
    "Two-sample t-test: Compares the means of two independent groups."
   ]
  },
  {
   "cell_type": "code",
   "execution_count": 2,
   "id": "7db98833-957c-44d3-8c50-51f2b646a603",
   "metadata": {},
   "outputs": [
    {
     "name": "stdout",
     "output_type": "stream",
     "text": [
      "T-statistic: -3.415347659525557, P-value: 0.0006435153115256579\n"
     ]
    }
   ],
   "source": [
    "from scipy import stats\n",
    "\n",
    "active_pageviews = df[df['Subscription_Status'] == 'Active']['Pageviews_First_7_Days']\n",
    "canceled_pageviews = df[df['Subscription_Status'] == 'Canceled']['Pageviews_First_7_Days']\n",
    "\n",
    "t_stat, p_val = stats.ttest_ind(active_pageviews, canceled_pageviews, nan_policy='omit')\n",
    "print(f'T-statistic: {t_stat}, P-value: {p_val}')"
   ]
  },
  {
   "cell_type": "markdown",
   "id": "2c735a9a-5165-4d63-b53d-8863b39656c0",
   "metadata": {},
   "source": [
    "ANOVA:\n",
    "To test if the means of Pageviews_First_7_Days are the same across all different Subscription_Status\n",
    "\n",
    "Note: ANOVA can only show there is at least one group being different. But it did NOT tell which group.\n",
    "So, in general, if the number of groups is little, say 4 or 5 groups, we can do it by hand with t-test.\n",
    "if the number of groups is large, say 1000 groups, we can use ANOVA."
   ]
  },
  {
   "cell_type": "code",
   "execution_count": 8,
   "id": "25534a5f-e883-4179-b942-0738b117935e",
   "metadata": {},
   "outputs": [
    {
     "name": "stdout",
     "output_type": "stream",
     "text": [
      "Subscription_Status\n",
      "Active            36.266780\n",
      "Canceled          46.796748\n",
      "Expired           45.210204\n",
      "Payment failed    36.942529\n",
      "Upgraded           0.000000\n",
      "Name: Pageviews_First_7_Days, dtype: float64\n",
      "ANOVA test statistics: 5.393765044719592\n",
      "P-value: 0.0002482185463237465\n"
     ]
    },
    {
     "name": "stderr",
     "output_type": "stream",
     "text": [
      "C:\\Users\\yeung\\AppData\\Local\\Temp\\ipykernel_9204\\2010733806.py:2: FutureWarning: The default of observed=False is deprecated and will be changed to True in a future version of pandas. Pass observed=False to retain current behavior or observed=True to adopt the future default and silence this warning.\n",
      "  groups = df.groupby('Subscription_Status')['Pageviews_First_7_Days']\n",
      "C:\\Users\\yeung\\AppData\\Local\\Temp\\ipykernel_9204\\2010733806.py:4: FutureWarning: The default of observed=False is deprecated and will be changed to True in a future version of pandas. Pass observed=False to retain current behavior or observed=True to adopt the future default and silence this warning.\n",
      "  means = df.groupby('Subscription_Status')['Pageviews_First_7_Days'].mean()\n"
     ]
    }
   ],
   "source": [
    "# Group the data by 'Subscription_Status'\n",
    "groups = df.groupby('Subscription_Status')['Pageviews_First_7_Days']\n",
    "\n",
    "means = df.groupby('Subscription_Status')['Pageviews_First_7_Days'].mean()\n",
    "print(means)\n",
    "\n",
    "# Perform ANOVA\n",
    "f_val, p_val = stats.f_oneway(*[group for name, group in groups])\n",
    "\n",
    "print(f'ANOVA test statistics: {f_val}')\n",
    "print(f'P-value: {p_val}')\n"
   ]
  },
  {
   "cell_type": "markdown",
   "id": "99a534ac-f144-4240-9e5f-fc8c6c2ed80b",
   "metadata": {},
   "source": [
    "Chi-Square test:\n",
    "Does it a matter for Subscription_Status and Publication_Name?\n",
    "\n",
    "Note:  Each expected count should be at least 5 for the Chi-Square test to be valid. If some expected counts are less than 5, consider combining some categories or using Fisher's Exact Test if it's a 2x2 table.\n",
    "For our example, we have to combine different groups. But that would be your task."
   ]
  },
  {
   "cell_type": "code",
   "execution_count": 6,
   "id": "ce2e70af-fa77-44c9-a393-bee0ae41ec5e",
   "metadata": {},
   "outputs": [
    {
     "name": "stdout",
     "output_type": "stream",
     "text": [
      "Subscription_Status    Active  Canceled  Expired  Payment failed  Upgraded\n",
      "Publication_Name                                                          \n",
      "Calgary Herald            308        23       39              63         0\n",
      "Calgary Sun                89        11        5              25         0\n",
      "Edmonton Journal           63        10        8               7         0\n",
      "Edmonton Sun               90        12        8              20         0\n",
      "Financial Post            485        25       13              18         0\n",
      "London Free Press         193        11       11               9         0\n",
      "Montreal Gazette           53        13       15               9         0\n",
      "National Post            1442       153      245             294         1\n",
      "Ottawa Citizen             27        16       15               6         0\n",
      "Ottawa Sun                 77        11       12              22         0\n",
      "Regina Leader-Post          5         0        0               1         0\n",
      "Saskatoon StarPhoenix       6         1        2               0         0\n",
      "The Province              118        17       28              13         0\n",
      "Toronto Sun               400        34       50              88         0\n",
      "Vancouver Sun              73        17       26              14         0\n",
      "Windsor Star                9         2        4               0         0\n",
      "Winnipeg Sun               93        13        9              20         0\n",
      "Chi-Square Statistic: 282.96112473286337\n",
      "p-value: 2.622313702907627e-29\n"
     ]
    }
   ],
   "source": [
    "from scipy.stats import chi2_contingency\n",
    "\n",
    "# Create a contingency table\n",
    "contingency_table = pd.crosstab(df['Publication_Name'], df['Subscription_Status'])\n",
    "\n",
    "print(contingency_table)\n",
    "\n",
    "# Perform the Chi-Square test\n",
    "chi2, p, dof, expected = chi2_contingency(contingency_table)\n",
    "\n",
    "# Print the p-value\n",
    "print(f'Chi-Square Statistic: {chi2}')\n",
    "print(f'p-value: {p}')\n",
    "\n"
   ]
  },
  {
   "cell_type": "markdown",
   "id": "16f45c7c-3985-49af-a493-f6ef23e48756",
   "metadata": {},
   "source": [
    "<h1>Continuous Variables Tests</h1>"
   ]
  },
  {
   "attachments": {},
   "cell_type": "markdown",
   "id": "1da8c356-09ce-4375-a590-a7f9b75952ba",
   "metadata": {},
   "source": [
    "Pearson Correlation:\n",
    "To measure the strength of the linear relationship between two continuous variables.\n",
    "\n",
    "It is the same as Correlation. Use pearsonr can give you the p-value."
   ]
  },
  {
   "cell_type": "code",
   "execution_count": 9,
   "id": "63a3d9a9-7373-4748-8c4f-29366b1f31e5",
   "metadata": {},
   "outputs": [
    {
     "name": "stdout",
     "output_type": "stream",
     "text": [
      "Pearson correlation coefficient: 0.6250597803605256\n",
      "P-value: 0.0\n"
     ]
    }
   ],
   "source": [
    "from scipy.stats import pearsonr\n",
    "\n",
    "# Calculate the Pearson correlation coefficient and the p-value\n",
    "corr_coefficient, p_value = pearsonr(df['Pageviews_First_7_Days'], df['Pageviews_Total_Within_Term'])\n",
    "\n",
    "print(f'Pearson correlation coefficient: {corr_coefficient}')\n",
    "print(f'P-value: {p_value}')\n"
   ]
  },
  {
   "attachments": {},
   "cell_type": "markdown",
   "id": "8da5de04-a4cf-4d8d-9a10-f0ab22941e38",
   "metadata": {},
   "source": [
    "Spearman Correlation:\u000b",
    "\n",
    "To measure the relationship between two ranked (ordinal) or not normally distributed continuous variables.\n",
    "\n",
    "Note: In this example, we do NOT have any ordinal variable. Here we put the same variables as above, but please remember, it is WRONG!\n",
    "The key point here is to let you know you can use this code.\r\n"
   ]
  },
  {
   "cell_type": "code",
   "execution_count": 2,
   "id": "1d54351c-3efb-4163-946c-6dd12165a7cd",
   "metadata": {},
   "outputs": [
    {
     "name": "stdout",
     "output_type": "stream",
     "text": [
      "Spearman correlation coefficient: 0.7951666312994066\n",
      "P-value: 0.0\n"
     ]
    }
   ],
   "source": [
    "from scipy.stats import spearmanr\n",
    "\n",
    "# Calculate the Spearman correlation coefficient using scipy\n",
    "spearman_corr_coefficient, p_value = spearmanr(df['Pageviews_First_7_Days'], df['Pageviews_Total_Within_Term'])\n",
    "\n",
    "print(f'Spearman correlation coefficient: {spearman_corr_coefficient}')\n",
    "print(f'P-value: {p_value}')\n"
   ]
  },
  {
   "cell_type": "markdown",
   "id": "b7150062-7f07-418d-af11-48be7e61a2eb",
   "metadata": {},
   "source": [
    "Linear Regression: \n",
    "To understand the relationship between a single predictor (independent variable) and a response (dependent variable).\n",
    "\n",
    "Note:\n",
    "1. do the standardize process for continuous variables.\n",
    "2. In Python, scikit-learn's LinearRegression does not provide a summary table. If you're looking for a summary output similar to what is provided by the lm() function in R, which includes R-squared, coefficient estimates, standard errors, p-values, and more, you'll want to use statsmodels.\n",
    "3. F-Statistics means if the model valid.\n",
    "4. Adjusted R-square means how much variance being explained\n",
    "5. Coefficients means beta and p-values means if this variables should be included in the model or not. (x4 and x5 should be removed in this case)\n",
    "   "
   ]
  },
  {
   "cell_type": "code",
   "execution_count": 12,
   "id": "1c122b4d-ceca-40d1-a93b-01a043319d89",
   "metadata": {},
   "outputs": [
    {
     "name": "stdout",
     "output_type": "stream",
     "text": [
      "                            OLS Regression Results                            \n",
      "==============================================================================\n",
      "Dep. Variable:         Account_Tenure   R-squared:                       0.220\n",
      "Model:                            OLS   Adj. R-squared:                  0.220\n",
      "Method:                 Least Squares   F-statistic:                     282.4\n",
      "Date:                Mon, 18 Mar 2024   Prob (F-statistic):          8.94e-267\n",
      "Time:                        21:55:55   Log-Likelihood:                -30596.\n",
      "No. Observations:                5000   AIC:                         6.120e+04\n",
      "Df Residuals:                    4994   BIC:                         6.124e+04\n",
      "Df Model:                           5                                         \n",
      "Covariance Type:            nonrobust                                         \n",
      "==============================================================================\n",
      "                 coef    std err          t      P>|t|      [0.025      0.975]\n",
      "------------------------------------------------------------------------------\n",
      "const        178.8730      1.556    114.949      0.000     175.822     181.924\n",
      "x1             8.7710      2.535      3.460      0.001       3.802      13.740\n",
      "x2            87.9990      2.499     35.211      0.000      83.100      92.898\n",
      "x3           -66.7932      4.345    -15.372      0.000     -75.312     -58.275\n",
      "x4            -0.2187      5.625     -0.039      0.969     -11.246      10.808\n",
      "x5             1.0953      4.446      0.246      0.805      -7.621       9.812\n",
      "==============================================================================\n",
      "Omnibus:                      854.232   Durbin-Watson:                   0.947\n",
      "Prob(Omnibus):                  0.000   Jarque-Bera (JB):             3416.315\n",
      "Skew:                           0.800   Prob(JB):                         0.00\n",
      "Kurtosis:                       6.720   Cond. No.                         8.93\n",
      "==============================================================================\n",
      "\n",
      "Notes:\n",
      "[1] Standard Errors assume that the covariance matrix of the errors is correctly specified.\n"
     ]
    }
   ],
   "source": [
    "import pandas as pd\n",
    "import statsmodels.api as sm\n",
    "from sklearn.preprocessing import StandardScaler\n",
    "\n",
    "# Prepare the feature matrix (X) and the target vector (y)\n",
    "features = ['Pageviews_First_7_Days', 'Pageviews_Total_Within_Term', \n",
    "            'Avg_Monthly_Pageviews_Within_Term', 'Pageviews_Last_30Days', 'Pageviews_Last_7Days']\n",
    "X = df[features]\n",
    "y = df['Account_Tenure']\n",
    "\n",
    "# Standardize the features\n",
    "scaler = StandardScaler()\n",
    "X_scaled = scaler.fit_transform(X)\n",
    "\n",
    "# Add a constant to the model (the intercept)\n",
    "X_scaled_sm = sm.add_constant(X_scaled)\n",
    "\n",
    "# Fit the model using statsmodels\n",
    "model = sm.OLS(y, X_scaled_sm)\n",
    "results = model.fit()\n",
    "\n",
    "# Print the summary\n",
    "print(results.summary())\n",
    "\n"
   ]
  },
  {
   "cell_type": "markdown",
   "id": "aa967c4a-de86-4e75-bd32-cdfed4237680",
   "metadata": {},
   "source": [
    "Linear Regression with interaction\n",
    "Note: you have to remove all p-values > 0.05 cases and re-build the model."
   ]
  },
  {
   "cell_type": "code",
   "execution_count": 14,
   "id": "248b704c-e2c1-479d-a8e1-2010a357efac",
   "metadata": {},
   "outputs": [
    {
     "name": "stdout",
     "output_type": "stream",
     "text": [
      "                            OLS Regression Results                            \n",
      "==============================================================================\n",
      "Dep. Variable:         Account_Tenure   R-squared:                      -0.232\n",
      "Model:                            OLS   Adj. R-squared:                 -0.240\n",
      "Method:                 Least Squares   F-statistic:                    -32.31\n",
      "Date:                Mon, 18 Mar 2024   Prob (F-statistic):               1.00\n",
      "Time:                        23:24:25   Log-Likelihood:                -31740.\n",
      "No. Observations:                5000   AIC:                         6.354e+04\n",
      "Df Residuals:                    4970   BIC:                         6.374e+04\n",
      "Df Model:                          29                                         \n",
      "Covariance Type:            nonrobust                                         \n",
      "===================================================================================================================================================================================================\n",
      "                                                                                                                                      coef    std err          t      P>|t|      [0.025      0.975]\n",
      "---------------------------------------------------------------------------------------------------------------------------------------------------------------------------------------------------\n",
      "Intercept                                                                                                                           0.0382      0.001     27.664      0.000       0.036       0.041\n",
      "Pageviews_First_7_Days                                                                                                              2.5323      0.091     27.730      0.000       2.353       2.711\n",
      "Pageviews_Total_Within_Term                                                                                                         0.3158      0.008     38.027      0.000       0.300       0.332\n",
      "Pageviews_First_7_Days:Pageviews_Total_Within_Term                                                                                 -0.0010   5.69e-05    -17.493      0.000      -0.001      -0.001\n",
      "Avg_Monthly_Pageviews_Within_Term                                                                                                  -0.1223      0.061     -2.008      0.045      -0.242      -0.003\n",
      "Pageviews_First_7_Days:Avg_Monthly_Pageviews_Within_Term                                                                           -0.0077      0.001    -13.116      0.000      -0.009      -0.007\n",
      "Pageviews_Total_Within_Term:Avg_Monthly_Pageviews_Within_Term                                                                      -0.0004   2.29e-05    -17.749      0.000      -0.000      -0.000\n",
      "Pageviews_First_7_Days:Pageviews_Total_Within_Term:Avg_Monthly_Pageviews_Within_Term                                             1.733e-06    8.9e-08     19.468      0.000    1.56e-06    1.91e-06\n",
      "Pageviews_Last_30Days                                                                                                              -0.1051      0.102     -1.027      0.305      -0.306       0.096\n",
      "Pageviews_First_7_Days:Pageviews_Last_30Days                                                                                        0.0029      0.001      3.185      0.001       0.001       0.005\n",
      "Pageviews_Total_Within_Term:Pageviews_Last_30Days                                                                                  -0.0002   3.78e-05     -6.418      0.000      -0.000      -0.000\n",
      "Pageviews_First_7_Days:Pageviews_Total_Within_Term:Pageviews_Last_30Days                                                         5.157e-07   1.66e-07      3.113      0.002    1.91e-07     8.4e-07\n",
      "Avg_Monthly_Pageviews_Within_Term:Pageviews_Last_30Days                                                                            -0.0004      0.000     -1.943      0.052      -0.001    3.51e-06\n",
      "Pageviews_First_7_Days:Avg_Monthly_Pageviews_Within_Term:Pageviews_Last_30Days                                                   3.305e-06   5.74e-07      5.758      0.000    2.18e-06    4.43e-06\n",
      "Pageviews_Total_Within_Term:Avg_Monthly_Pageviews_Within_Term:Pageviews_Last_30Days                                              4.266e-07   4.16e-08     10.258      0.000    3.45e-07    5.08e-07\n",
      "Pageviews_First_7_Days:Pageviews_Total_Within_Term:Avg_Monthly_Pageviews_Within_Term:Pageviews_Last_30Days                       -1.38e-09   1.32e-10    -10.477      0.000   -1.64e-09   -1.12e-09\n",
      "Pageviews_Last_7Days                                                                                                               -0.9398      0.371     -2.530      0.011      -1.668      -0.212\n",
      "Pageviews_First_7_Days:Pageviews_Last_7Days                                                                                        -0.0106      0.003     -3.808      0.000      -0.016      -0.005\n",
      "Pageviews_Total_Within_Term:Pageviews_Last_7Days                                                                                -3.073e-05      0.000     -0.204      0.839      -0.000       0.000\n",
      "Pageviews_First_7_Days:Pageviews_Total_Within_Term:Pageviews_Last_7Days                                                          9.339e-07   6.46e-07      1.445      0.148   -3.33e-07     2.2e-06\n",
      "Avg_Monthly_Pageviews_Within_Term:Pageviews_Last_7Days                                                                              0.0063      0.001      6.513      0.000       0.004       0.008\n",
      "Pageviews_First_7_Days:Avg_Monthly_Pageviews_Within_Term:Pageviews_Last_7Days                                                    1.393e-05   3.59e-06      3.880      0.000    6.89e-06     2.1e-05\n",
      "Pageviews_Total_Within_Term:Avg_Monthly_Pageviews_Within_Term:Pageviews_Last_7Days                                              -4.949e-07   1.87e-07     -2.642      0.008   -8.62e-07   -1.28e-07\n",
      "Pageviews_First_7_Days:Pageviews_Total_Within_Term:Avg_Monthly_Pageviews_Within_Term:Pageviews_Last_7Days                       -4.539e-10   6.13e-10     -0.741      0.459   -1.66e-09    7.48e-10\n",
      "Pageviews_Last_30Days:Pageviews_Last_7Days                                                                                          0.0002      0.000      0.546      0.585      -0.001       0.001\n",
      "Pageviews_First_7_Days:Pageviews_Last_30Days:Pageviews_Last_7Days                                                                -6.15e-06   3.06e-06     -2.010      0.044   -1.21e-05   -1.52e-07\n",
      "Pageviews_Total_Within_Term:Pageviews_Last_30Days:Pageviews_Last_7Days                                                           3.469e-07   5.49e-08      6.317      0.000    2.39e-07    4.55e-07\n",
      "Pageviews_First_7_Days:Pageviews_Total_Within_Term:Pageviews_Last_30Days:Pageviews_Last_7Days                                   -8.923e-10   2.83e-10     -3.153      0.002   -1.45e-09   -3.38e-10\n",
      "Avg_Monthly_Pageviews_Within_Term:Pageviews_Last_30Days:Pageviews_Last_7Days                                                    -1.797e-06    3.5e-07     -5.134      0.000   -2.48e-06   -1.11e-06\n",
      "Pageviews_First_7_Days:Avg_Monthly_Pageviews_Within_Term:Pageviews_Last_30Days:Pageviews_Last_7Days                             -4.399e-09   7.06e-10     -6.233      0.000   -5.78e-09   -3.02e-09\n",
      "Pageviews_Total_Within_Term:Avg_Monthly_Pageviews_Within_Term:Pageviews_Last_30Days:Pageviews_Last_7Days                         -3.26e-10   2.96e-11    -11.025      0.000   -3.84e-10   -2.68e-10\n",
      "Pageviews_First_7_Days:Pageviews_Total_Within_Term:Avg_Monthly_Pageviews_Within_Term:Pageviews_Last_30Days:Pageviews_Last_7Days  1.588e-12   9.39e-14     16.920      0.000     1.4e-12    1.77e-12\n",
      "==============================================================================\n",
      "Omnibus:                      833.288   Durbin-Watson:                   1.307\n",
      "Prob(Omnibus):                  0.000   Jarque-Bera (JB):             1800.668\n",
      "Skew:                           0.977   Prob(JB):                         0.00\n",
      "Kurtosis:                       5.196   Cond. No.                     2.83e+15\n",
      "==============================================================================\n",
      "\n",
      "Notes:\n",
      "[1] Standard Errors assume that the covariance matrix of the errors is correctly specified.\n",
      "[2] The condition number is large, 2.83e+15. This might indicate that there are\n",
      "strong multicollinearity or other numerical problems.\n"
     ]
    }
   ],
   "source": [
    "import statsmodels.api as sm\n",
    "import statsmodels.formula.api as smf\n",
    "import pandas as pd\n",
    "\n",
    "# Formula for the model: 'y ~ X1 * X2 * ... * Xn' \n",
    "# where * between two variables means both the main effects and the interaction effect\n",
    "formula = 'Account_Tenure ~ Pageviews_First_7_Days * Pageviews_Total_Within_Term * Avg_Monthly_Pageviews_Within_Term * Pageviews_Last_30Days * Pageviews_Last_7Days'\n",
    "\n",
    "# Build the model with all interaction terms\n",
    "model = smf.ols(formula, data=df)\n",
    "results = model.fit()\n",
    "\n",
    "# Print the summary\n",
    "print(results.summary())\n"
   ]
  },
  {
   "cell_type": "markdown",
   "id": "76477e92-9c9b-4ca4-aa13-290cad52c00d",
   "metadata": {},
   "source": [
    "<h1>Non-Parametric Tests</h1>\n",
    "\n",
    "Mann-Whitney U test: \n",
    "Non-parametric alternative to the independent t-test.\n",
    "\n",
    "Let's assume Pageviews_First_7_Days distribution is heavily skewed, not normally distributed.\n",
    "We can replace the t-test above."
   ]
  },
  {
   "cell_type": "code",
   "execution_count": 15,
   "id": "bcd660ba-a711-4c79-9612-cec0420aaf76",
   "metadata": {},
   "outputs": [
    {
     "name": "stdout",
     "output_type": "stream",
     "text": [
      "Statistic: 605078.0\n",
      "P-value: 0.0241377179433829\n"
     ]
    }
   ],
   "source": [
    "import pandas as pd\n",
    "from scipy.stats import mannwhitneyu\n",
    "\n",
    "# Filter the dataset for two groups (e.g., 'Active' vs 'Canceled')\n",
    "group1 = df[df['Subscription_Status'] == 'Active']['Pageviews_First_7_Days']\n",
    "group2 = df[df['Subscription_Status'] == 'Canceled']['Pageviews_First_7_Days']\n",
    "\n",
    "# Perform the Mann-Whitney U test\n",
    "stat, p_value = mannwhitneyu(group1, group2, alternative='two-sided')\n",
    "\n",
    "print(f'Statistic: {stat}')\n",
    "print(f'P-value: {p_value}')\n"
   ]
  },
  {
   "cell_type": "markdown",
   "id": "13f06634-59ac-439b-8fdd-881f21cfa58b",
   "metadata": {},
   "source": [
    "Kruskal-Wallis test: \n",
    "Non-parametric alternative to ANOVA."
   ]
  },
  {
   "cell_type": "code",
   "execution_count": 16,
   "id": "629c434e-30b1-4485-a7f7-0249ea21d267",
   "metadata": {},
   "outputs": [
    {
     "name": "stdout",
     "output_type": "stream",
     "text": [
      "Statistic: 21.834741762774325\n",
      "P-value: 0.00021618548158502715\n"
     ]
    }
   ],
   "source": [
    "import pandas as pd\n",
    "from scipy.stats import kruskal\n",
    "\n",
    "# Extract data for each group\n",
    "data_groups = []\n",
    "for status in df['Subscription_Status'].unique():\n",
    "    data_groups.append(df[df['Subscription_Status'] == status]['Pageviews_First_7_Days'])\n",
    "\n",
    "# Perform the Kruskal-Wallis test\n",
    "stat, p_value = kruskal(*data_groups)\n",
    "\n",
    "print(f'Statistic: {stat}')\n",
    "print(f'P-value: {p_value}')\n"
   ]
  },
  {
   "cell_type": "markdown",
   "id": "8305577f-28e9-456a-8d6e-52240d269ef8",
   "metadata": {},
   "source": [
    "<h1>Check if the distribution of a variable (feature) is under normal distribution</h1>\n",
    "KS Test"
   ]
  },
  {
   "cell_type": "code",
   "execution_count": 4,
   "id": "54f095e8-70df-4b51-8ea6-d3f4d7335776",
   "metadata": {},
   "outputs": [
    {
     "name": "stdout",
     "output_type": "stream",
     "text": [
      "KS statistic: 0.3094561725763033\n",
      "P-value: 0.0\n"
     ]
    }
   ],
   "source": [
    "import numpy as np\n",
    "from scipy import stats\n",
    "\n",
    "# Extract the variable of interest\n",
    "data = df['Avg_Monthly_Pageviews_Within_Term'].dropna()  # Dropping NaN values if any\n",
    "\n",
    "# Calculate the sample mean and standard deviation\n",
    "data_mean = np.mean(data)\n",
    "data_std = np.std(data, ddof=1)\n",
    "\n",
    "# Perform the KS test for normality\n",
    "# Note: The 'cdf' parameter should be set to the CDF of a normal distribution with the same mean and std as the data\n",
    "D, p_value = stats.kstest(data, 'norm', args=(data_mean, data_std))\n",
    "\n",
    "print(f\"KS statistic: {D}\")\n",
    "print(f\"P-value: {p_value}\")\n"
   ]
  },
  {
   "cell_type": "markdown",
   "id": "1175662f-82d0-4e72-96e2-91a1761ca4e0",
   "metadata": {},
   "source": [
    "We can try to test if the variable distribution is under other distribution.\n",
    "In this case, we tried Exponential distribution."
   ]
  },
  {
   "cell_type": "code",
   "execution_count": 6,
   "id": "d1c132ce-f0da-4ef3-9cdb-f9e58d12bc4e",
   "metadata": {},
   "outputs": [
    {
     "name": "stdout",
     "output_type": "stream",
     "text": [
      "KS statistic: 0.2657419455361001\n",
      "P-value: 3.46229424878e-312\n"
     ]
    }
   ],
   "source": [
    "import numpy as np\n",
    "from scipy import stats\n",
    "\n",
    "# Assuming df is your DataFrame\n",
    "# data = df['Avg_Monthly_Pageviews_Within_Term'].dropna()\n",
    "\n",
    "# Estimate lambda (λ) as the inverse of the mean for the Exponential distribution\n",
    "lambda_hat = 1 / np.mean(data)\n",
    "\n",
    "# Perform the KS test against the Exponential distribution\n",
    "D, p_value = stats.kstest(data, 'expon', args=(0, 1/lambda_hat))\n",
    "\n",
    "print(f\"KS statistic: {D}\")\n",
    "print(f\"P-value: {p_value}\")\n"
   ]
  },
  {
   "cell_type": "markdown",
   "id": "8bb8ccbf-f264-40c0-83a9-1d51d4b5a59c",
   "metadata": {},
   "source": [
    "<h1>Check if the distribution of a variable (feature) is under normal distribution</h1>\n",
    "Q-Q plot"
   ]
  },
  {
   "cell_type": "code",
   "execution_count": 2,
   "id": "f0c61273-b28c-4540-9680-25ec2667bd5a",
   "metadata": {},
   "outputs": [
    {
     "data": {
      "image/png": "[encoded data removed]",
      "text/plain": [
       "<Figure size 640x480 with 1 Axes>"
      ]
     },
     "metadata": {},
     "output_type": "display_data"
    }
   ],
   "source": [
    "import numpy as np\n",
    "import pandas as pd\n",
    "import statsmodels.api as sm\n",
    "import matplotlib.pyplot as plt\n",
    "\n",
    "# Q-Q plot for Avg_Monthly_Pageviews_Within_Term\n",
    "sm.qqplot(df['Avg_Monthly_Pageviews_Within_Term'].dropna(), line='s')\n",
    "plt.title('Q-Q Plot of Avg_Monthly_Pageviews_Within_Term')\n",
    "plt.show()"
   ]
  },
  {
   "cell_type": "markdown",
   "id": "3ed3ebfc-108e-4839-8e87-2982b870bbdb",
   "metadata": {},
   "source": [
    "We can try to test if the variable distribution is under other distribution.\n",
    "In this case, we tried Poisson distribution by Q-Q Plot."
   ]
  },
  {
   "cell_type": "code",
   "execution_count": 3,
   "id": "e6c6aa6b-f444-48f5-aab9-72ced6ab99fc",
   "metadata": {},
   "outputs": [
    {
     "data": {
      "image/png": "[encoded data removed]",
      "text/plain": [
       "<Figure size 640x480 with 1 Axes>"
      ]
     },
     "metadata": {},
     "output_type": "display_data"
    }
   ],
   "source": [
    "import numpy as np\n",
    "import matplotlib.pyplot as plt\n",
    "from scipy import stats\n",
    "\n",
    "# Sample Data: Assuming this is your data column from the DataFrame\n",
    "data = df['Avg_Monthly_Pageviews_Within_Term']\n",
    "\n",
    "# Estimate the rate parameter λ (lambda) for Poisson distribution\n",
    "lambda_hat = np.mean(data)\n",
    "\n",
    "# Calculate Empirical Quantiles\n",
    "data_sorted = np.sort(data)\n",
    "percentiles = np.arange(1, len(data_sorted) + 1) / (len(data_sorted) + 1)\n",
    "\n",
    "# Calculate Theoretical Quantiles for the Poisson Distribution\n",
    "poisson_quantiles = stats.poisson.ppf(percentiles, lambda_hat)\n",
    "\n",
    "# Plotting the Q-Q plot\n",
    "plt.scatter(poisson_quantiles, data_sorted, edgecolor='k', facecolor='none')\n",
    "plt.xlabel('Theoretical Quantiles (Poisson)')\n",
    "plt.ylabel('Empirical Quantiles')\n",
    "plt.title('Q-Q Plot against Poisson Distribution')\n",
    "plt.plot([min(poisson_quantiles), max(poisson_quantiles)], [min(data_sorted), max(data_sorted)], 'r--')  # Line of equality\n",
    "plt.show()\n",
    "\n"
   ]
  },
  {
   "cell_type": "code",
   "execution_count": null,
   "id": "5eec514f-1b2b-4a81-ba85-f7c096c4c0ad",
   "metadata": {},
   "outputs": [],
   "source": []
  },
  {
   "cell_type": "code",
   "execution_count": null,
   "id": "80cf7834-1a5d-45a9-b034-8a9f34291e0c",
   "metadata": {},
   "outputs": [],
   "source": []
  }
 ],
 "metadata": {
  "kernelspec": {
   "display_name": "Python 3 (ipykernel)",
   "language": "python",
   "name": "python3"
  },
  "language_info": {
   "codemirror_mode": {
    "name": "ipython",
    "version": 3
   },
   "file_extension": ".py",
   "mimetype": "text/x-python",
   "name": "python",
   "nbconvert_exporter": "python",
   "pygments_lexer": "ipython3",
   "version": "3.11.7"
  }
 },
 "nbformat": 4,
 "nbformat_minor": 5
}
